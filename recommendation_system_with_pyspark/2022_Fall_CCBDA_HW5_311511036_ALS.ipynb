{
  "cells": [
    {
      "cell_type": "code",
      "execution_count": 27,
      "metadata": {
        "colab": {
          "base_uri": "https://localhost:8080/"
        },
        "id": "w4P2WtWiBFbT",
        "outputId": "a008f4d8-fea5-4a10-99c1-dfdde8bfa9d3"
      },
      "outputs": [
        {
          "output_type": "stream",
          "name": "stdout",
          "text": [
            "Drive already mounted at /content/drive; to attempt to forcibly remount, call drive.mount(\"/content/drive\", force_remount=True).\n"
          ]
        }
      ],
      "source": [
        "from google.colab import drive\n",
        "drive.mount('/content/drive')"
      ]
    },
    {
      "cell_type": "code",
      "execution_count": 28,
      "metadata": {
        "colab": {
          "base_uri": "https://localhost:8080/"
        },
        "id": "wrAe9LO0BOTa",
        "outputId": "d9d8ddd5-b29b-453c-a13b-106c2cb84cb0"
      },
      "outputs": [
        {
          "output_type": "stream",
          "name": "stdout",
          "text": [
            "Reading package lists... Done\n",
            "Building dependency tree       \n",
            "Reading state information... Done\n",
            "openjdk-8-jre-headless is already the newest version (8u352-ga-1~18.04).\n",
            "The following package was automatically installed and is no longer required:\n",
            "  libnvidia-common-460\n",
            "Use 'apt autoremove' to remove it.\n",
            "0 upgraded, 0 newly installed, 0 to remove and 20 not upgraded.\n",
            "Looking in indexes: https://pypi.org/simple, https://us-python.pkg.dev/colab-wheels/public/simple/\n",
            "Requirement already satisfied: pyspark in /usr/local/lib/python3.8/dist-packages (3.3.1)\n",
            "Requirement already satisfied: py4j==0.10.9.5 in /usr/local/lib/python3.8/dist-packages (from pyspark) (0.10.9.5)\n"
          ]
        }
      ],
      "source": [
        "!apt-get -y install openjdk-8-jre-headless\n",
        "!pip install pyspark"
      ]
    },
    {
      "cell_type": "code",
      "execution_count": 29,
      "metadata": {
        "id": "_RNHo4kPBRWh"
      },
      "outputs": [],
      "source": [
        "from pyspark.sql import SparkSession\n",
        "spark = SparkSession.builder.appName(\"recommandation\").getOrCreate()"
      ]
    },
    {
      "cell_type": "code",
      "execution_count": 30,
      "metadata": {
        "id": "Ndk-5K2kBTRB"
      },
      "outputs": [],
      "source": [
        "df_train = spark.read.csv('/content/drive/MyDrive/2022-CCBDA/train_student.csv',header=True,inferSchema=True)"
      ]
    },
    {
      "cell_type": "code",
      "execution_count": 31,
      "metadata": {
        "colab": {
          "base_uri": "https://localhost:8080/"
        },
        "id": "t6A9s5pABVOg",
        "outputId": "7c62501b-d2be-43d4-f096-56689675fe0f"
      },
      "outputs": [
        {
          "output_type": "stream",
          "name": "stdout",
          "text": [
            "root\n",
            " |-- item: string (nullable = true)\n",
            " |-- user: string (nullable = true)\n",
            " |-- rating: integer (nullable = true)\n",
            "\n"
          ]
        }
      ],
      "source": [
        "df_train.printSchema()"
      ]
    },
    {
      "cell_type": "code",
      "execution_count": 33,
      "metadata": {
        "id": "VuiDPyjpBXmA"
      },
      "outputs": [],
      "source": [
        "from pyspark.sql.functions import format_number, lit\n",
        "df_train = df_train.withColumn('rating', df_train.rating.cast('float'))"
      ]
    },
    {
      "cell_type": "code",
      "execution_count": 32,
      "metadata": {
        "colab": {
          "base_uri": "https://localhost:8080/"
        },
        "id": "WamJ9W8FBbIR",
        "outputId": "67d6492f-660e-40d4-a2b0-a8571649f7bc"
      },
      "outputs": [
        {
          "output_type": "stream",
          "name": "stdout",
          "text": [
            "root\n",
            " |-- item: string (nullable = true)\n",
            " |-- user: string (nullable = true)\n",
            " |-- rating: integer (nullable = true)\n",
            "\n"
          ]
        }
      ],
      "source": [
        "df_train.printSchema()"
      ]
    },
    {
      "cell_type": "code",
      "execution_count": 34,
      "metadata": {
        "colab": {
          "base_uri": "https://localhost:8080/"
        },
        "id": "LsWufIKZBc_L",
        "outputId": "a906132f-a1d7-4cec-a223-f21d0f3b3d83"
      },
      "outputs": [
        {
          "output_type": "stream",
          "name": "stdout",
          "text": [
            "+-------+--------------------+--------------------+------------------+\n",
            "|summary|                item|                user|            rating|\n",
            "+-------+--------------------+--------------------+------------------+\n",
            "|  count|               83798|               83798|             83798|\n",
            "|   mean|2.0769135928283918E9|                null| 4.359018114990811|\n",
            "| stddev|2.0710778913333938E9|                null|0.9940809586163019|\n",
            "|    min|          0439893577|A012468118FTQAINE...|               1.0|\n",
            "|    max|          B00LBI9BKA|       AZZYW4YOE1B6E|               5.0|\n",
            "+-------+--------------------+--------------------+------------------+\n",
            "\n"
          ]
        }
      ],
      "source": [
        "df_train.describe().show()"
      ]
    },
    {
      "cell_type": "code",
      "execution_count": 35,
      "metadata": {
        "colab": {
          "base_uri": "https://localhost:8080/"
        },
        "id": "MQmH7UqNBepy",
        "outputId": "834041a0-4cd8-49ef-ab3b-cecec488e73b"
      },
      "outputs": [
        {
          "output_type": "execute_result",
          "data": {
            "text/plain": [
              "[Row(item='B008H54GVE', user='A2OIMJEGOCTQ87', rating=4.0),\n",
              " Row(item='B001NLISDG', user='A38KQZS5M1A8T8', rating=4.0),\n",
              " Row(item='B007S3S8HO', user='A1F5O1USOUOOXI', rating=3.0),\n",
              " Row(item='B008G6OOHA', user='A1FTZ5LLEX7NCM', rating=4.0),\n",
              " Row(item='B00A9JNR8E', user='A1R2JUOGIYH6HO', rating=4.0),\n",
              " Row(item='B00000JH3R', user='A2X7C89I7YRX1O', rating=5.0),\n",
              " Row(item='B000RXPU0U', user='A24BSKCWXC4M6D', rating=5.0),\n",
              " Row(item='B00DWXUYN0', user='A3JX1D26WFEXOS', rating=5.0),\n",
              " Row(item='B000E9DPVI', user='A2IWHA1XEYSPD6', rating=5.0),\n",
              " Row(item='B001EB9F3C', user='A2340917M1HHZ3', rating=4.0)]"
            ]
          },
          "metadata": {},
          "execution_count": 35
        }
      ],
      "source": [
        "df_train.head(10)"
      ]
    },
    {
      "cell_type": "markdown",
      "metadata": {
        "id": "ObRyIg2fSes9"
      },
      "source": [
        "Useful function: indexing ID(string) to numerical index"
      ]
    },
    {
      "cell_type": "code",
      "execution_count": 36,
      "metadata": {
        "id": "C-zgoSFwErJC"
      },
      "outputs": [],
      "source": [
        "from pyspark.ml.feature import StringIndexer, IndexToString\n",
        "from pyspark.ml import Pipeline\n"
      ]
    },
    {
      "cell_type": "code",
      "execution_count": 37,
      "metadata": {
        "id": "ADqbktFYEwRi"
      },
      "outputs": [],
      "source": [
        "indexers = [StringIndexer(inputCol=column, outputCol=column+\"_index\").setHandleInvalid(\"keep\").fit(df_train) for column in list(set(df_train.columns)-set(['rating'])) ]\n",
        "pipeline = Pipeline(stages=indexers)\n",
        "df_ID = pipeline.fit(df_train).transform(df_train)"
      ]
    },
    {
      "cell_type": "code",
      "execution_count": 38,
      "metadata": {
        "colab": {
          "base_uri": "https://localhost:8080/"
        },
        "id": "g7__2vKbE8C7",
        "outputId": "bfeefc96-3ef5-4a94-94fb-2c4409f14db5"
      },
      "outputs": [
        {
          "output_type": "execute_result",
          "data": {
            "text/plain": [
              "[Row(item='B008H54GVE', user='A2OIMJEGOCTQ87', rating=4.0, user_index=1292.0, item_index=5709.0),\n",
              " Row(item='B001NLISDG', user='A38KQZS5M1A8T8', rating=4.0, user_index=4940.0, item_index=1849.0),\n",
              " Row(item='B007S3S8HO', user='A1F5O1USOUOOXI', rating=3.0, user_index=669.0, item_index=937.0),\n",
              " Row(item='B008G6OOHA', user='A1FTZ5LLEX7NCM', rating=4.0, user_index=107.0, item_index=10888.0),\n",
              " Row(item='B00A9JNR8E', user='A1R2JUOGIYH6HO', rating=4.0, user_index=1210.0, item_index=1979.0),\n",
              " Row(item='B00000JH3R', user='A2X7C89I7YRX1O', rating=5.0, user_index=4764.0, item_index=979.0),\n",
              " Row(item='B000RXPU0U', user='A24BSKCWXC4M6D', rating=5.0, user_index=2866.0, item_index=6385.0),\n",
              " Row(item='B00DWXUYN0', user='A3JX1D26WFEXOS', rating=5.0, user_index=8104.0, item_index=9620.0),\n",
              " Row(item='B000E9DPVI', user='A2IWHA1XEYSPD6', rating=5.0, user_index=11230.0, item_index=420.0),\n",
              " Row(item='B001EB9F3C', user='A2340917M1HHZ3', rating=4.0, user_index=10687.0, item_index=51.0)]"
            ]
          },
          "metadata": {},
          "execution_count": 38
        }
      ],
      "source": [
        "df_ID.head(10)"
      ]
    },
    {
      "cell_type": "code",
      "execution_count": 144,
      "metadata": {
        "id": "L7K_fRKjBv7E"
      },
      "outputs": [],
      "source": [
        "(train, test) = df_ID.randomSplit([0.85, 0.15], seed = 2023)"
      ]
    },
    {
      "cell_type": "markdown",
      "metadata": {
        "id": "nvjRKqWKS6AW"
      },
      "source": [
        "Useful function: Construct Binary data \\\\\n",
        "adding 1 for watched and 0 for not watched"
      ]
    },
    {
      "cell_type": "code",
      "execution_count": 145,
      "metadata": {
        "id": "UGvGKXfQB_Xn"
      },
      "outputs": [],
      "source": [
        "def get_binary_data(ratings):\n",
        "    ratings = df_ID.withColumn('binary', lit(1))\n",
        "    userIds = df_ID.select(\"user_index\").distinct()\n",
        "    itemIds = df_ID.select(\"item_index\").distinct()\n",
        "\n",
        "    user_item = userIds.crossJoin(itemIds).join(ratings, ['user_index', 'item_index'], \"left\")\n",
        "    user_item = user_item.select(['user_index', 'item_index', 'binary']).fillna(0)\n",
        "    return user_item\n",
        "\n",
        "user_item = get_binary_data(df_ID)"
      ]
    },
    {
      "cell_type": "code",
      "execution_count": 146,
      "metadata": {
        "colab": {
          "base_uri": "https://localhost:8080/"
        },
        "id": "WkPAb0p5DEyE",
        "outputId": "68f9a440-39c2-4b79-c54b-3059c458b194"
      },
      "outputs": [
        {
          "output_type": "stream",
          "name": "stdout",
          "text": [
            "+----------+----------+------+\n",
            "|user_index|item_index|binary|\n",
            "+----------+----------+------+\n",
            "|    5776.0|     305.0|     0|\n",
            "|     305.0|     305.0|     0|\n",
            "|   12737.0|     305.0|     0|\n",
            "|    2734.0|     305.0|     0|\n",
            "|     934.0|     305.0|     0|\n",
            "|     692.0|     305.0|     0|\n",
            "|    3980.0|     305.0|     0|\n",
            "|   13533.0|     305.0|     0|\n",
            "|     496.0|     305.0|     0|\n",
            "|    6653.0|     305.0|     0|\n",
            "|   12172.0|     305.0|     0|\n",
            "|   16981.0|     305.0|     0|\n",
            "|   12467.0|     305.0|     0|\n",
            "|    6433.0|     305.0|     0|\n",
            "|   13918.0|     305.0|     0|\n",
            "|    6067.0|     305.0|     0|\n",
            "|    9753.0|     305.0|     0|\n",
            "|     299.0|     305.0|     0|\n",
            "|    4800.0|     305.0|     0|\n",
            "|   14452.0|     305.0|     0|\n",
            "+----------+----------+------+\n",
            "only showing top 20 rows\n",
            "\n"
          ]
        }
      ],
      "source": [
        "user_item.show()"
      ]
    },
    {
      "cell_type": "markdown",
      "metadata": {
        "id": "KEziaFwGTfCo"
      },
      "source": [
        "Useful Function: pyspark recommandation system ML model \\\\\n",
        "Remember to set coldStartStrategy=\"nan\" to make sure model not ignore null data.\n",
        "\n",
        "Spark allows users to set the coldStartStrategy parameter to “drop” in order to drop any rows in the DataFrame of predictions that contain NaN values. The evaluation metric will then be computed over the non-NaN data and will be valid. Usage of this parameter is illustrated in the example below."
      ]
    },
    {
      "cell_type": "code",
      "execution_count": 147,
      "metadata": {
        "id": "p2D3e5lfDOCU"
      },
      "outputs": [],
      "source": [
        "# Import the required functions\n",
        "from pyspark.ml.evaluation import RegressionEvaluator\n",
        "from pyspark.ml.recommendation import ALS\n",
        "\n",
        "# Create ALS model\n",
        "als = ALS(\n",
        "         userCol=\"user_index\", \n",
        "         itemCol=\"item_index\",\n",
        "         ratingCol=\"rating\", \n",
        "         nonnegative = True, \n",
        "         implicitPrefs = False,\n",
        "         coldStartStrategy=\"nan\"\n",
        ")"
      ]
    },
    {
      "cell_type": "code",
      "execution_count": 136,
      "metadata": {
        "colab": {
          "base_uri": "https://localhost:8080/"
        },
        "id": "TzZu2CZ2DSeE",
        "outputId": "580be8cc-cfae-4eea-805d-96735dd66775"
      },
      "outputs": [
        {
          "output_type": "stream",
          "name": "stdout",
          "text": [
            "Num models to be tested:  4\n"
          ]
        }
      ],
      "source": [
        "# Import the requisite packages\n",
        "from pyspark.ml.evaluation import RegressionEvaluator\n",
        "from pyspark.ml.tuning import ParamGridBuilder, CrossValidator\n",
        "\n",
        "# [Custom]\n",
        "param_grid = ParamGridBuilder() \\\n",
        "            .addGrid(als.rank, [8, 9]) \\\n",
        "            .addGrid(als.regParam, [.05, .1,]) \\\n",
        "            .build()\n",
        "            # .addGrid(als.regParam, [.005, .01,]) \\\n",
        "            # .addGrid(als.maxIter, [5, 10]) \\\n",
        "           \n",
        "print (\"Num models to be tested: \", len(param_grid))\n",
        "\n",
        "evaluator=RegressionEvaluator(metricName=\"rmse\",labelCol=\"rating\",predictionCol=\"prediction\")\n"
      ]
    },
    {
      "cell_type": "code",
      "execution_count": 137,
      "metadata": {
        "colab": {
          "base_uri": "https://localhost:8080/"
        },
        "id": "a_k8XAYKd_Sv",
        "outputId": "4b549517-9749-452b-e451-ec4442a21491"
      },
      "outputs": [
        {
          "output_type": "stream",
          "name": "stdout",
          "text": [
            "CrossValidator_c1fb5be011bb\n"
          ]
        }
      ],
      "source": [
        "cv = CrossValidator(estimator=als, estimatorParamMaps=param_grid, evaluator=evaluator, numFolds=5)\n",
        "print(cv)"
      ]
    },
    {
      "cell_type": "code",
      "execution_count": 148,
      "metadata": {
        "id": "_17IcpyrDbuM"
      },
      "outputs": [],
      "source": [
        "#Fit cross validator to the 'train' dataset\n",
        "model = als.fit(train)\n",
        "\n",
        "#[Custom]\n",
        "#model = cv.fit(train) \n",
        "#model = model.bestModel\n"
      ]
    },
    {
      "cell_type": "markdown",
      "metadata": {
        "id": "sk6avSaCUpzt"
      },
      "source": [
        "Useful function: fill value to NaN part \\\\\n",
        "example : \\\\\n",
        "a = a.na.fill(value=999)"
      ]
    },
    {
      "cell_type": "code",
      "execution_count": 149,
      "metadata": {
        "colab": {
          "base_uri": "https://localhost:8080/"
        },
        "id": "tGCmOyMfVGNa",
        "outputId": "6bfb7cc6-8c88-4030-c996-426a194d85b5"
      },
      "outputs": [
        {
          "output_type": "stream",
          "name": "stdout",
          "text": [
            "<pyspark.sql.dataframe.DataFrameNaFunctions object at 0x7f3795f8bd00>\n",
            "1.278774629300528\n"
          ]
        }
      ],
      "source": [
        "# View the predictions\n",
        "test_predictions = model.transform(test)\n",
        "print(test_predictions.na)\n",
        "# rememver to fix nan in prediction\n",
        "test_predictions=test_predictions.na.fill(value=4.35)\n",
        "\n",
        "RMSE = evaluator.evaluate(test_predictions)\n",
        "print(RMSE)"
      ]
    },
    {
      "cell_type": "code",
      "execution_count": 150,
      "metadata": {
        "id": "AJPyjJej7wll"
      },
      "outputs": [],
      "source": [
        "df_public = spark.read.csv('/content/drive/MyDrive/2022-CCBDA/test_public.csv',header=True,inferSchema=True)\n",
        "df_public_ID = pipeline.fit(df_public).transform(df_public)"
      ]
    },
    {
      "cell_type": "code",
      "execution_count": 151,
      "metadata": {
        "colab": {
          "base_uri": "https://localhost:8080/"
        },
        "id": "X3tILkElIdw9",
        "outputId": "7543d059-aad7-4237-d4b3-d78c4581bf0b"
      },
      "outputs": [
        {
          "output_type": "stream",
          "name": "stdout",
          "text": [
            "RMSE=1.260688436786773\n",
            "+----------+--------------+------+----------+----------+----------+\n",
            "|      item|          user|rating|user_index|item_index|prediction|\n",
            "+----------+--------------+------+----------+----------+----------+\n",
            "|B0006IRTU0|A2CYXQOAR1EJRQ|     5|   18105.0|     471.0|  4.291501|\n",
            "|B000TK8440|A35B72PSA30R67|     5|    1699.0|     183.0|  4.396342|\n",
            "|B0002BSTY6|A194UXXKM11698|     4|    1160.0|    7919.0| 3.1965234|\n",
            "|B006HCVT5A|A3ISFBZ5UFK81I|     5|   16376.0|    3045.0|  4.237437|\n",
            "|B004R1ZUNA| A3Y0IB3VYLD6A|     5|    5296.0|     297.0| 3.4934626|\n",
            "|B00428LJ06|A1MLBMJSFK6BIJ|     5|    6338.0|     142.0| 4.8054934|\n",
            "|B004GXIDYM|A34BONVNM07TRG|     5|   18436.0|    2537.0| 3.9557204|\n",
            "|B0040GK7NK| AR3EVUQF0AC7R|     5|    1433.0|    1901.0| 3.8232243|\n",
            "|B00A88EPCI|A3L249C56OJI7D|     5|    8140.0|     838.0| 4.0189342|\n",
            "|B000IBPD76| ARSNAGZWXP7GN|     5|   13708.0|      39.0| 3.9411035|\n",
            "|B0063NC3N0|A3AZPAZXGOD4VL|     5|   16190.0|    1495.0|  4.326409|\n",
            "|B001Q1A2P0|A168O2YKPE9BE8|     5|      25.0|   10170.0|   5.03905|\n",
            "|B007XPLI56|A2C5VTBNC6I5MY|     1|   15278.0|     404.0| 3.0067468|\n",
            "|B003A5RTHO|A12IOCD2A7OC7K|     5|    2525.0|    6845.0| 3.8784966|\n",
            "|B000EQGT00|A304ILYRZ145SI|     1|     710.0|     135.0| 3.2616067|\n",
            "|B00AAPHZVW| ANOST6C92T7HB|     5|   18970.0|     557.0|      4.35|\n",
            "|B008R3RPDW|A3J1CEZ30ZOJ7S|     5|   16383.0|   10908.0| 3.1128843|\n",
            "|B0015FRC32|A28QKOPBDPSHE5|     5|   10890.0|   10076.0| 4.3424253|\n",
            "|B000EUKRY0|A1PTTEYFE49BQM|     4|    6406.0|     104.0| 3.6763585|\n",
            "|B00005YVRN|A3118YKNMNAS33|     4|    2209.0|     134.0| 4.1702085|\n",
            "+----------+--------------+------+----------+----------+----------+\n",
            "only showing top 20 rows\n",
            "\n"
          ]
        }
      ],
      "source": [
        "evaluator=RegressionEvaluator(metricName=\"rmse\",labelCol=\"rating\",predictionCol=\"prediction\")\n",
        "predictions=model.transform(df_public_ID)\n",
        "# rememver to fix nan in prediction\n",
        "predictions=predictions.na.fill(value=4.35)\n",
        "\n",
        "rmse=evaluator.evaluate(predictions)\n",
        "print(\"RMSE=\"+str(rmse))\n",
        "predictions.show()"
      ]
    },
    {
      "cell_type": "code",
      "execution_count": 153,
      "metadata": {
        "id": "BQHjl2ohZT0b"
      },
      "outputs": [],
      "source": [
        "df_testall = spark.read.csv('/content/drive/MyDrive/2022-CCBDA/test_all.csv',header=True,inferSchema=True)\n"
      ]
    },
    {
      "cell_type": "code",
      "execution_count": 154,
      "metadata": {
        "id": "hy6mIylWZjgq"
      },
      "outputs": [],
      "source": [
        "df_test_ID = pipeline.fit(df_testall).transform(df_testall)"
      ]
    },
    {
      "cell_type": "code",
      "execution_count": 155,
      "metadata": {
        "colab": {
          "base_uri": "https://localhost:8080/"
        },
        "id": "W_4uSA07ZzbM",
        "outputId": "b9d2eba3-9d8b-4729-b4c2-e5d3ed2eb176"
      },
      "outputs": [
        {
          "output_type": "stream",
          "name": "stdout",
          "text": [
            "root\n",
            " |-- item: string (nullable = true)\n",
            " |-- user: string (nullable = true)\n",
            " |-- user_index: double (nullable = false)\n",
            " |-- item_index: double (nullable = false)\n",
            "\n"
          ]
        }
      ],
      "source": [
        "df_test_ID.printSchema()"
      ]
    },
    {
      "cell_type": "code",
      "execution_count": 156,
      "metadata": {
        "colab": {
          "base_uri": "https://localhost:8080/"
        },
        "id": "KfPhg1ywoNu-",
        "outputId": "874d4e99-6cc4-433b-8694-5df615cc03b9"
      },
      "outputs": [
        {
          "output_type": "stream",
          "name": "stdout",
          "text": [
            "+-------+--------------------+--------------------+-----------------+------------------+\n",
            "|summary|                item|                user|       user_index|        item_index|\n",
            "+-------+--------------------+--------------------+-----------------+------------------+\n",
            "|  count|               83799|               83799|            83799|             83799|\n",
            "|   mean|2.1813556526264625E9|                null|8276.219012160049|3844.3237150801324|\n",
            "| stddev|2.1882518602245975E9|                null|6463.700444398778| 3647.800641218535|\n",
            "|    min|          0439893577|A012468118FTQAINE...|              0.0|               0.0|\n",
            "|    max|          B00LBI9BKA|       AZZYW4YOE1B6E|          19127.0|           11824.0|\n",
            "+-------+--------------------+--------------------+-----------------+------------------+\n",
            "\n"
          ]
        }
      ],
      "source": [
        "df_test_ID.describe().show()"
      ]
    },
    {
      "cell_type": "code",
      "execution_count": 157,
      "metadata": {
        "colab": {
          "base_uri": "https://localhost:8080/"
        },
        "id": "CQ0VXEjAd3aM",
        "outputId": "c7b64170-de27-4f42-d8fc-01254d25d10d"
      },
      "outputs": [
        {
          "output_type": "stream",
          "name": "stdout",
          "text": [
            "+----------+--------------+----------+----------+\n",
            "|      item|          user|user_index|item_index|\n",
            "+----------+--------------+----------+----------+\n",
            "|B0015FRC32|A28QKOPBDPSHE5|   10890.0|   10076.0|\n",
            "|B000EUKRY0|A1PTTEYFE49BQM|    6406.0|     104.0|\n",
            "|B007XPLI56|A2C5VTBNC6I5MY|   15278.0|     404.0|\n",
            "|B003A5RTHO|A12IOCD2A7OC7K|    2525.0|    6845.0|\n",
            "|B006HCVT5A|A3ISFBZ5UFK81I|   16376.0|    3045.0|\n",
            "|B004GXIDYM|A34BONVNM07TRG|   18436.0|    2537.0|\n",
            "|B004R1ZUNA| A3Y0IB3VYLD6A|    5296.0|     297.0|\n",
            "|B0006IRTU0|A2CYXQOAR1EJRQ|   18105.0|     471.0|\n",
            "|B00A88EPCI|A3L249C56OJI7D|    8140.0|     838.0|\n",
            "|B00428LJ06|A1MLBMJSFK6BIJ|    6338.0|     142.0|\n",
            "|B0002BSTY6|A194UXXKM11698|    1160.0|    7919.0|\n",
            "|B000IBPD76| ARSNAGZWXP7GN|   13708.0|      39.0|\n",
            "|B000TK8440|A35B72PSA30R67|    1699.0|     183.0|\n",
            "|B000EQGT00|A304ILYRZ145SI|     710.0|     135.0|\n",
            "|B00005YVRN|A3118YKNMNAS33|    2209.0|     134.0|\n",
            "|B0027FFMBS|A3LHE5MHDF7X2R|   12545.0|   11442.0|\n",
            "|B00AAPHZVW| ANOST6C92T7HB|   18970.0|     557.0|\n",
            "|B0040GK7NK| AR3EVUQF0AC7R|    1433.0|    1901.0|\n",
            "|B0063NC3N0|A3AZPAZXGOD4VL|   16190.0|    1495.0|\n",
            "|B008R3RPDW|A3J1CEZ30ZOJ7S|   16383.0|   10908.0|\n",
            "+----------+--------------+----------+----------+\n",
            "only showing top 20 rows\n",
            "\n"
          ]
        }
      ],
      "source": [
        "df_test_ID.show()"
      ]
    },
    {
      "cell_type": "code",
      "execution_count": 158,
      "metadata": {
        "id": "8E8jbQAwZqdi"
      },
      "outputs": [],
      "source": [
        "testall_predictions=model.transform(df_test_ID)"
      ]
    },
    {
      "cell_type": "code",
      "execution_count": 159,
      "metadata": {
        "colab": {
          "base_uri": "https://localhost:8080/"
        },
        "id": "nwWnlbaWcsky",
        "outputId": "28f2c42a-e5b4-47f3-dc17-d9d6e33c895d"
      },
      "outputs": [
        {
          "output_type": "stream",
          "name": "stdout",
          "text": [
            "root\n",
            " |-- item: string (nullable = true)\n",
            " |-- user: string (nullable = true)\n",
            " |-- user_index: double (nullable = false)\n",
            " |-- item_index: double (nullable = false)\n",
            " |-- prediction: float (nullable = false)\n",
            "\n"
          ]
        }
      ],
      "source": [
        "testall_predictions.printSchema()"
      ]
    },
    {
      "cell_type": "code",
      "execution_count": 160,
      "metadata": {
        "colab": {
          "base_uri": "https://localhost:8080/"
        },
        "id": "qWnKzFFuoWbP",
        "outputId": "42553037-49e8-4a44-92ae-f9132719840e"
      },
      "outputs": [
        {
          "output_type": "stream",
          "name": "stdout",
          "text": [
            "+-------+--------------------+--------------------+------------------+------------------+----------+\n",
            "|summary|                item|                user|        user_index|        item_index|prediction|\n",
            "+-------+--------------------+--------------------+------------------+------------------+----------+\n",
            "|  count|               83799|               83799|             83799|             83799|     83799|\n",
            "|   mean|2.1813556526264625E9|                null| 8276.219012160049|3844.3237150801324|       NaN|\n",
            "| stddev|2.1882518602245984E9|                null|6463.7004443987325|3647.8006412185114|       NaN|\n",
            "|    min|          0439893577|A012468118FTQAINE...|               0.0|               0.0|0.04960001|\n",
            "|    max|          B00LBI9BKA|       AZZYW4YOE1B6E|           19127.0|           11824.0|       NaN|\n",
            "+-------+--------------------+--------------------+------------------+------------------+----------+\n",
            "\n"
          ]
        }
      ],
      "source": [
        "testall_predictions.describe().show()"
      ]
    },
    {
      "cell_type": "code",
      "execution_count": 161,
      "metadata": {
        "colab": {
          "base_uri": "https://localhost:8080/"
        },
        "id": "N0_OXylQgCEz",
        "outputId": "feb04b6d-8ec7-437f-d32d-1c2d2356e2da"
      },
      "outputs": [
        {
          "output_type": "stream",
          "name": "stdout",
          "text": [
            "+----------+--------------+----------+----------+----------+\n",
            "|      item|          user|user_index|item_index|prediction|\n",
            "+----------+--------------+----------+----------+----------+\n",
            "|B0006IRTU0|A2CYXQOAR1EJRQ|   18105.0|     471.0|  4.291501|\n",
            "|B000TK8440|A35B72PSA30R67|    1699.0|     183.0|  4.396342|\n",
            "|B0002BSTY6|A194UXXKM11698|    1160.0|    7919.0| 3.1965234|\n",
            "|B006HCVT5A|A3ISFBZ5UFK81I|   16376.0|    3045.0|  4.237437|\n",
            "|B004R1ZUNA| A3Y0IB3VYLD6A|    5296.0|     297.0| 3.4934626|\n",
            "|B00428LJ06|A1MLBMJSFK6BIJ|    6338.0|     142.0| 4.8054934|\n",
            "|B004GXIDYM|A34BONVNM07TRG|   18436.0|    2537.0| 3.9557204|\n",
            "|B0040GK7NK| AR3EVUQF0AC7R|    1433.0|    1901.0| 3.8232243|\n",
            "|B00A88EPCI|A3L249C56OJI7D|    8140.0|     838.0| 4.0189342|\n",
            "|B000IBPD76| ARSNAGZWXP7GN|   13708.0|      39.0| 3.9411035|\n",
            "|B0063NC3N0|A3AZPAZXGOD4VL|   16190.0|    1495.0|  4.326409|\n",
            "|B001Q1A2P0|A168O2YKPE9BE8|      25.0|   10170.0|   5.03905|\n",
            "|B007XPLI56|A2C5VTBNC6I5MY|   15278.0|     404.0| 3.0067468|\n",
            "|B003A5RTHO|A12IOCD2A7OC7K|    2525.0|    6845.0| 3.8784966|\n",
            "|B000EQGT00|A304ILYRZ145SI|     710.0|     135.0| 3.2616067|\n",
            "|B00AAPHZVW| ANOST6C92T7HB|   18970.0|     557.0|       NaN|\n",
            "|B008R3RPDW|A3J1CEZ30ZOJ7S|   16383.0|   10908.0| 3.1128843|\n",
            "|B0015FRC32|A28QKOPBDPSHE5|   10890.0|   10076.0| 4.3424253|\n",
            "|B000EUKRY0|A1PTTEYFE49BQM|    6406.0|     104.0| 3.6763585|\n",
            "|B00005YVRN|A3118YKNMNAS33|    2209.0|     134.0| 4.1702085|\n",
            "+----------+--------------+----------+----------+----------+\n",
            "only showing top 20 rows\n",
            "\n"
          ]
        }
      ],
      "source": [
        "testall_predictions.show()"
      ]
    },
    {
      "cell_type": "markdown",
      "metadata": {
        "id": "rlg57ZXQUN4a"
      },
      "source": [
        "Useful function: concate User Item to generate U_I column"
      ]
    },
    {
      "cell_type": "code",
      "execution_count": 162,
      "metadata": {
        "id": "ZSJrkwilc5XR"
      },
      "outputs": [],
      "source": [
        "from pyspark.sql.functions import concat, col, lit\n",
        "\n",
        "out = testall_predictions.select(concat(col(\"user\"), lit(\"_\"), col(\"item\")) , testall_predictions.prediction)"
      ]
    },
    {
      "cell_type": "code",
      "execution_count": 163,
      "metadata": {
        "colab": {
          "base_uri": "https://localhost:8080/"
        },
        "id": "Q0TjFya_fux0",
        "outputId": "912bc834-7c2f-4a65-9216-15f82adde8d8"
      },
      "outputs": [
        {
          "output_type": "stream",
          "name": "stdout",
          "text": [
            "root\n",
            " |-- concat(user, _, item): string (nullable = true)\n",
            " |-- prediction: float (nullable = false)\n",
            "\n"
          ]
        }
      ],
      "source": [
        "out.printSchema()"
      ]
    },
    {
      "cell_type": "code",
      "execution_count": 164,
      "metadata": {
        "colab": {
          "base_uri": "https://localhost:8080/"
        },
        "id": "BXfwTKKAeil_",
        "outputId": "019ae7b1-3539-4599-aa30-5d8a29265945"
      },
      "outputs": [
        {
          "output_type": "stream",
          "name": "stdout",
          "text": [
            "+---------------------+----------+\n",
            "|concat(user, _, item)|prediction|\n",
            "+---------------------+----------+\n",
            "| A2CYXQOAR1EJRQ_B0...|  4.291501|\n",
            "| A35B72PSA30R67_B0...|  4.396342|\n",
            "| A194UXXKM11698_B0...| 3.1965234|\n",
            "| A3ISFBZ5UFK81I_B0...|  4.237437|\n",
            "| A3Y0IB3VYLD6A_B00...| 3.4934626|\n",
            "| A1MLBMJSFK6BIJ_B0...| 4.8054934|\n",
            "| A34BONVNM07TRG_B0...| 3.9557204|\n",
            "| AR3EVUQF0AC7R_B00...| 3.8232243|\n",
            "| A3L249C56OJI7D_B0...| 4.0189342|\n",
            "| ARSNAGZWXP7GN_B00...| 3.9411035|\n",
            "| A3AZPAZXGOD4VL_B0...|  4.326409|\n",
            "| A168O2YKPE9BE8_B0...|   5.03905|\n",
            "| A2C5VTBNC6I5MY_B0...| 3.0067468|\n",
            "| A12IOCD2A7OC7K_B0...| 3.8784966|\n",
            "| A304ILYRZ145SI_B0...| 3.2616067|\n",
            "| ANOST6C92T7HB_B00...|       NaN|\n",
            "| A3J1CEZ30ZOJ7S_B0...| 3.1128843|\n",
            "| A28QKOPBDPSHE5_B0...| 4.3424253|\n",
            "| A1PTTEYFE49BQM_B0...| 3.6763585|\n",
            "| A3118YKNMNAS33_B0...| 4.1702085|\n",
            "+---------------------+----------+\n",
            "only showing top 20 rows\n",
            "\n"
          ]
        }
      ],
      "source": [
        "out.show()"
      ]
    },
    {
      "cell_type": "markdown",
      "metadata": {
        "id": "9UVinGYcVDPw"
      },
      "source": [
        "Remember to fix NaN value"
      ]
    },
    {
      "cell_type": "code",
      "execution_count": 165,
      "metadata": {
        "id": "HzGFQkRBqfy0"
      },
      "outputs": [],
      "source": [
        "out=out.na.fill(value=4.35)"
      ]
    },
    {
      "cell_type": "code",
      "execution_count": 166,
      "metadata": {
        "colab": {
          "base_uri": "https://localhost:8080/"
        },
        "id": "yAsXRHZyqnoz",
        "outputId": "57c43222-4258-433c-ffc5-6c97ec0ce3d7"
      },
      "outputs": [
        {
          "output_type": "stream",
          "name": "stdout",
          "text": [
            "+---------------------+----------+\n",
            "|concat(user, _, item)|prediction|\n",
            "+---------------------+----------+\n",
            "| A2CYXQOAR1EJRQ_B0...|  4.291501|\n",
            "| A35B72PSA30R67_B0...|  4.396342|\n",
            "| A194UXXKM11698_B0...| 3.1965234|\n",
            "| A3ISFBZ5UFK81I_B0...|  4.237437|\n",
            "| A3Y0IB3VYLD6A_B00...| 3.4934626|\n",
            "| A1MLBMJSFK6BIJ_B0...| 4.8054934|\n",
            "| A34BONVNM07TRG_B0...| 3.9557204|\n",
            "| AR3EVUQF0AC7R_B00...| 3.8232243|\n",
            "| A3L249C56OJI7D_B0...| 4.0189342|\n",
            "| ARSNAGZWXP7GN_B00...| 3.9411035|\n",
            "| A3AZPAZXGOD4VL_B0...|  4.326409|\n",
            "| A168O2YKPE9BE8_B0...|   5.03905|\n",
            "| A2C5VTBNC6I5MY_B0...| 3.0067468|\n",
            "| A12IOCD2A7OC7K_B0...| 3.8784966|\n",
            "| A304ILYRZ145SI_B0...| 3.2616067|\n",
            "| ANOST6C92T7HB_B00...|      4.35|\n",
            "| A3J1CEZ30ZOJ7S_B0...| 3.1128843|\n",
            "| A28QKOPBDPSHE5_B0...| 4.3424253|\n",
            "| A1PTTEYFE49BQM_B0...| 3.6763585|\n",
            "| A3118YKNMNAS33_B0...| 4.1702085|\n",
            "+---------------------+----------+\n",
            "only showing top 20 rows\n",
            "\n"
          ]
        }
      ],
      "source": [
        "out.show()"
      ]
    },
    {
      "cell_type": "markdown",
      "metadata": {
        "id": "WwfRsAmIVL7Q"
      },
      "source": [
        "Remember to sort by U_I before output"
      ]
    },
    {
      "cell_type": "code",
      "execution_count": 167,
      "metadata": {
        "colab": {
          "base_uri": "https://localhost:8080/"
        },
        "id": "W7I8P9brk9-1",
        "outputId": "565a4cef-2098-40ec-bbcc-86058a4c4adb"
      },
      "outputs": [
        {
          "output_type": "stream",
          "name": "stdout",
          "text": [
            "+---------------------+----------+\n",
            "|concat(user, _, item)|prediction|\n",
            "+---------------------+----------+\n",
            "| A012468118FTQAINE...| 4.6847363|\n",
            "| A012468118FTQAINE...|  4.544454|\n",
            "| A012468118FTQAINE...| 4.2808523|\n",
            "| A0182108CPDLPRCXQ...| 4.1718836|\n",
            "| A0182108CPDLPRCXQ...|  4.174871|\n",
            "| A0182108CPDLPRCXQ...|  3.510594|\n",
            "| A026961431MGW0616...| 1.9600806|\n",
            "| A026961431MGW0616...|  4.127269|\n",
            "| A026961431MGW0616...| 3.0147252|\n",
            "| A034597326Z83X79S...| 3.5298998|\n",
            "| A034597326Z83X79S...| 3.5314264|\n",
            "| A034597326Z83X79S...| 3.8800292|\n",
            "| A034597326Z83X79S...| 3.8184423|\n",
            "| A04295422T2ZG087R...|      4.35|\n",
            "| A04295422T2ZG087R...| 2.4695177|\n",
            "| A060131923OZAPX4N...|  3.419979|\n",
            "| A060131923OZAPX4N...|  3.471266|\n",
            "| A060131923OZAPX4N...| 3.4758053|\n",
            "| A060131923OZAPX4N...| 3.5014637|\n",
            "| A060131923OZAPX4N...|  2.802917|\n",
            "+---------------------+----------+\n",
            "only showing top 20 rows\n",
            "\n"
          ]
        }
      ],
      "source": [
        "out.orderBy(\"concat(user, _, item)\").show()"
      ]
    },
    {
      "cell_type": "code",
      "execution_count": 168,
      "metadata": {
        "id": "kmZMGab8dRE9"
      },
      "outputs": [],
      "source": [
        "out.orderBy(\"concat(user, _, item)\").coalesce(1).write.format(\"csv\").mode('overwrite').save(\"/content/drive/MyDrive/2022-CCBDA/sample_submission.csv\")"
      ]
    },
    {
      "cell_type": "code",
      "execution_count": null,
      "metadata": {
        "id": "KX2fXra2Szax"
      },
      "outputs": [],
      "source": []
    }
  ],
  "metadata": {
    "colab": {
      "provenance": []
    },
    "kernelspec": {
      "display_name": "Python 3 (ipykernel)",
      "language": "python",
      "name": "python3"
    },
    "language_info": {
      "codemirror_mode": {
        "name": "ipython",
        "version": 3
      },
      "file_extension": ".py",
      "mimetype": "text/x-python",
      "name": "python",
      "nbconvert_exporter": "python",
      "pygments_lexer": "ipython3",
      "version": "3.8.8"
    }
  },
  "nbformat": 4,
  "nbformat_minor": 0
}